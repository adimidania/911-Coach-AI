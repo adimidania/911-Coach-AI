{
  "nbformat": 4,
  "nbformat_minor": 0,
  "metadata": {
    "colab": {
      "provenance": []
    },
    "kernelspec": {
      "name": "python3",
      "display_name": "Python 3"
    },
    "language_info": {
      "name": "python"
    }
  },
  "cells": [
    {
      "cell_type": "markdown",
      "source": [
        "# Populate the AI knowledge base\n",
        "\n"
      ],
      "metadata": {
        "id": "BRLU0HZF-GIR"
      }
    },
    {
      "cell_type": "code",
      "execution_count": 1,
      "metadata": {
        "id": "XXXmZSbNuz8h",
        "colab": {
          "base_uri": "https://localhost:8080/"
        },
        "outputId": "16ce92a4-2924-47d4-ee42-f666f54d6e40"
      },
      "outputs": [
        {
          "output_type": "stream",
          "name": "stdout",
          "text": [
            "\u001b[2K     \u001b[90m━━━━━━━━━━━━━━━━━━━━━━━━━━━━━━━━━━━━━━━━\u001b[0m \u001b[32m216.4/216.4 kB\u001b[0m \u001b[31m1.9 MB/s\u001b[0m eta \u001b[36m0:00:00\u001b[0m\n",
            "\u001b[2K     \u001b[90m━━━━━━━━━━━━━━━━━━━━━━━━━━━━━━━━━━━━━━━━\u001b[0m \u001b[32m2.2/2.2 MB\u001b[0m \u001b[31m14.7 MB/s\u001b[0m eta \u001b[36m0:00:00\u001b[0m\n",
            "\u001b[2K     \u001b[90m━━━━━━━━━━━━━━━━━━━━━━━━━━━━━━━━━━━━━━━━\u001b[0m \u001b[32m173.8/173.8 kB\u001b[0m \u001b[31m4.0 MB/s\u001b[0m eta \u001b[36m0:00:00\u001b[0m\n",
            "\u001b[2K     \u001b[90m━━━━━━━━━━━━━━━━━━━━━━━━━━━━━━━━━━━━━━━━\u001b[0m \u001b[32m232.6/232.6 kB\u001b[0m \u001b[31m6.3 MB/s\u001b[0m eta \u001b[36m0:00:00\u001b[0m\n",
            "\u001b[2K     \u001b[90m━━━━━━━━━━━━━━━━━━━━━━━━━━━━━━━━━━━━━━━━\u001b[0m \u001b[32m983.6/983.6 kB\u001b[0m \u001b[31m12.8 MB/s\u001b[0m eta \u001b[36m0:00:00\u001b[0m\n",
            "\u001b[2K     \u001b[90m━━━━━━━━━━━━━━━━━━━━━━━━━━━━━━━━━━━━━━━━\u001b[0m \u001b[32m362.4/362.4 kB\u001b[0m \u001b[31m9.3 MB/s\u001b[0m eta \u001b[36m0:00:00\u001b[0m\n",
            "\u001b[2K     \u001b[90m━━━━━━━━━━━━━━━━━━━━━━━━━━━━━━━━━━━━━━━━\u001b[0m \u001b[32m127.9/127.9 kB\u001b[0m \u001b[31m4.5 MB/s\u001b[0m eta \u001b[36m0:00:00\u001b[0m\n",
            "\u001b[2K     \u001b[90m━━━━━━━━━━━━━━━━━━━━━━━━━━━━━━━━━━━━━━━━\u001b[0m \u001b[32m139.2/139.2 kB\u001b[0m \u001b[31m3.4 MB/s\u001b[0m eta \u001b[36m0:00:00\u001b[0m\n",
            "\u001b[2K     \u001b[90m━━━━━━━━━━━━━━━━━━━━━━━━━━━━━━━━━━━━━━━━\u001b[0m \u001b[32m3.1/3.1 MB\u001b[0m \u001b[31m27.2 MB/s\u001b[0m eta \u001b[36m0:00:00\u001b[0m\n",
            "\u001b[2K     \u001b[90m━━━━━━━━━━━━━━━━━━━━━━━━━━━━━━━━━━━━━━━━\u001b[0m \u001b[32m75.6/75.6 kB\u001b[0m \u001b[31m5.7 MB/s\u001b[0m eta \u001b[36m0:00:00\u001b[0m\n",
            "\u001b[2K     \u001b[90m━━━━━━━━━━━━━━━━━━━━━━━━━━━━━━━━━━━━━━━━\u001b[0m \u001b[32m12.4/12.4 MB\u001b[0m \u001b[31m30.5 MB/s\u001b[0m eta \u001b[36m0:00:00\u001b[0m\n",
            "\u001b[2K     \u001b[90m━━━━━━━━━━━━━━━━━━━━━━━━━━━━━━━━━━━━━━━━\u001b[0m \u001b[32m82.7/82.7 kB\u001b[0m \u001b[31m7.6 MB/s\u001b[0m eta \u001b[36m0:00:00\u001b[0m\n",
            "\u001b[2K     \u001b[90m━━━━━━━━━━━━━━━━━━━━━━━━━━━━━━━━━━━━━━━━\u001b[0m \u001b[32m49.2/49.2 kB\u001b[0m \u001b[31m3.6 MB/s\u001b[0m eta \u001b[36m0:00:00\u001b[0m\n",
            "\u001b[2K     \u001b[90m━━━━━━━━━━━━━━━━━━━━━━━━━━━━━━━━━━━━━━━━\u001b[0m \u001b[32m77.9/77.9 kB\u001b[0m \u001b[31m6.4 MB/s\u001b[0m eta \u001b[36m0:00:00\u001b[0m\n",
            "\u001b[2K     \u001b[90m━━━━━━━━━━━━━━━━━━━━━━━━━━━━━━━━━━━━━━━━\u001b[0m \u001b[32m58.3/58.3 kB\u001b[0m \u001b[31m6.2 MB/s\u001b[0m eta \u001b[36m0:00:00\u001b[0m\n",
            "\u001b[2K     \u001b[90m━━━━━━━━━━━━━━━━━━━━━━━━━━━━━━━━━━━━━━━━\u001b[0m \u001b[32m141.1/141.1 kB\u001b[0m \u001b[31m4.2 MB/s\u001b[0m eta \u001b[36m0:00:00\u001b[0m\n",
            "\u001b[?25h"
          ]
        }
      ],
      "source": [
        "!pip install -qU pinecone-client langchain_community cohere PyPDF2"
      ]
    },
    {
      "cell_type": "code",
      "source": [
        "import pandas as pd\n",
        "import cohere\n",
        "from PyPDF2 import PdfReader\n",
        "from langchain.text_splitter import RecursiveCharacterTextSplitter, CharacterTextSplitter\n",
        "from pinecone import Pinecone, ServerlessSpec\n",
        "import os\n",
        "import getpass\n",
        "from langchain.schema import Document\n",
        "from langchain.embeddings import CohereEmbeddings\n",
        "from langchain_community.vectorstores import Pinecone as Pinecone_Langchain\n",
        "import random"
      ],
      "metadata": {
        "id": "H5jMx1RworcZ"
      },
      "execution_count": 2,
      "outputs": []
    },
    {
      "cell_type": "code",
      "source": [
        "index = 'dispatch-ai'\n",
        "os.environ['PINECONE_API_KEY'] = pinecone_secret_key = getpass.getpass('Enter Pinecone secret key:')\n",
        "cohere_secret_key = getpass.getpass('Enter Cohere secret key:')"
      ],
      "metadata": {
        "id": "f363ORbLpCvZ",
        "outputId": "75f04cc0-987b-43b4-a2d6-932fbd625da6",
        "colab": {
          "base_uri": "https://localhost:8080/"
        }
      },
      "execution_count": 3,
      "outputs": [
        {
          "name": "stdout",
          "output_type": "stream",
          "text": [
            "Enter Pinecone secret key:··········\n",
            "Enter Cohere secret key:··········\n"
          ]
        }
      ]
    },
    {
      "cell_type": "code",
      "source": [
        "pc = Pinecone(api_key=pinecone_secret_key)\n",
        "if index not in pc.list_indexes().names():\n",
        "  pc.create_index(\n",
        "    name = index,\n",
        "    dimension = 4096,\n",
        "    metric = 'cosine',\n",
        "    spec=ServerlessSpec(\n",
        "      cloud=\"aws\",\n",
        "      region=\"us-west-2\"\n",
        "      )\n",
        "  )\n",
        "pc.describe_index(index)"
      ],
      "metadata": {
        "id": "fFfv80sNrDEp",
        "outputId": "82a3bcc9-adb6-442e-9d55-8a3a38f676c7",
        "colab": {
          "base_uri": "https://localhost:8080/"
        }
      },
      "execution_count": 4,
      "outputs": [
        {
          "output_type": "execute_result",
          "data": {
            "text/plain": [
              "{'dimension': 4096,\n",
              " 'host': 'dispatch-ai-r4usyr2.svc.aped-4627-b74a.pinecone.io',\n",
              " 'metric': 'cosine',\n",
              " 'name': 'dispatch-ai',\n",
              " 'spec': {'serverless': {'cloud': 'aws', 'region': 'us-east-1'}},\n",
              " 'status': {'ready': True, 'state': 'Ready'}}"
            ]
          },
          "metadata": {},
          "execution_count": 4
        }
      ]
    },
    {
      "cell_type": "code",
      "source": [
        "# Each document will have a size of 500 or less\n",
        "character_text_splitter = CharacterTextSplitter(\n",
        "    chunk_size = 500,\n",
        "    chunk_overlap  = 200,\n",
        "    length_function = len,\n",
        "    is_separator_regex=False,\n",
        ")\n",
        "recursive_text_splitter = RecursiveCharacterTextSplitter(\n",
        "    chunk_size = 500,\n",
        "    chunk_overlap  = 200,\n",
        "    length_function = len,\n",
        "    is_separator_regex=False,\n",
        ")"
      ],
      "metadata": {
        "id": "DrCAkU-3rrMh"
      },
      "execution_count": 5,
      "outputs": []
    },
    {
      "cell_type": "code",
      "source": [
        "import re\n",
        "\n",
        "# A function to transform the Google sheet url to a downloadable CSV url\n",
        "def convert_google_sheet_url(url):\n",
        "    \"\"\"\n",
        "\n",
        "    Args:\n",
        "    - url (str): The Google Sheets URL to convert.\n",
        "\n",
        "    Returns:\n",
        "    - str: The converted URL pointing to a downloadable CSV.\n",
        "    \"\"\"\n",
        "\n",
        "    # Regular expression pattern to match Google Sheets URL\n",
        "    pattern = r'https://docs\\.google\\.com/spreadsheets/d/([a-zA-Z0-9-_]+)(/edit#gid=(\\d+)|/edit.*)?'\n",
        "    # Replacement function to convert the URL\n",
        "    replacement = lambda m: f'https://docs.google.com/spreadsheets/d/{m.group(1)}/export?' + (f'gid={m.group(3)}&' if m.group(3) else '') + 'format=csv'\n",
        "    new_url = re.sub(pattern, replacement, url)\n",
        "    return new_url"
      ],
      "metadata": {
        "id": "zWmg49GeqkQt"
      },
      "execution_count": 6,
      "outputs": []
    },
    {
      "cell_type": "code",
      "source": [
        "# Fill the vector database with curated articles about different emergency types\n",
        "sheet_url = 'https://docs.google.com/spreadsheets/d/1smCE64VgagNaTDAMeGqSRX61z70orrkd10kzvDjRf0c/edit?usp=sharing'\n",
        "df = pd.read_csv(convert_google_sheet_url(sheet_url))\n",
        "df.head()"
      ],
      "metadata": {
        "id": "h47DMlULozBg",
        "outputId": "5d81b97b-7608-4d8d-b312-60a069723ed7",
        "colab": {
          "base_uri": "https://localhost:8080/",
          "height": 206
        }
      },
      "execution_count": null,
      "outputs": [
        {
          "output_type": "execute_result",
          "data": {
            "text/plain": [
              "  Type of emergency                                             Answer  \\\n",
              "0    Cardiac Arrest  Cardiac arrest is when the heart stops pumping...   \n",
              "1    Cardiac Arrest  First-Aid Treatment for Cardiac Arrest\\nThe cr...   \n",
              "2    Cardiac Arrest  The crucial links in the chain of survival inc...   \n",
              "3    Cardiac Arrest  Automated External Defibrillator: Jump-Startin...   \n",
              "4    Cardiac Arrest  Skill in CPR is best obtained through a traini...   \n",
              "\n",
              "    Reference                                               Link  \n",
              "0  MSD manual  https://www.msdmanuals.com/home/heart-and-bloo...  \n",
              "1  MSD manual  https://www.msdmanuals.com/home/heart-and-bloo...  \n",
              "2  MSD manual  https://www.msdmanuals.com/home/heart-and-bloo...  \n",
              "3  MSD manual  https://www.msdmanuals.com/home/heart-and-bloo...  \n",
              "4  MSD manual  https://www.msdmanuals.com/home/heart-and-bloo...  "
            ],
            "text/html": [
              "\n",
              "  <div id=\"df-deea48e3-5ba3-43a1-bbfb-87b3f03f270d\" class=\"colab-df-container\">\n",
              "    <div>\n",
              "<style scoped>\n",
              "    .dataframe tbody tr th:only-of-type {\n",
              "        vertical-align: middle;\n",
              "    }\n",
              "\n",
              "    .dataframe tbody tr th {\n",
              "        vertical-align: top;\n",
              "    }\n",
              "\n",
              "    .dataframe thead th {\n",
              "        text-align: right;\n",
              "    }\n",
              "</style>\n",
              "<table border=\"1\" class=\"dataframe\">\n",
              "  <thead>\n",
              "    <tr style=\"text-align: right;\">\n",
              "      <th></th>\n",
              "      <th>Type of emergency</th>\n",
              "      <th>Answer</th>\n",
              "      <th>Reference</th>\n",
              "      <th>Link</th>\n",
              "    </tr>\n",
              "  </thead>\n",
              "  <tbody>\n",
              "    <tr>\n",
              "      <th>0</th>\n",
              "      <td>Cardiac Arrest</td>\n",
              "      <td>Cardiac arrest is when the heart stops pumping...</td>\n",
              "      <td>MSD manual</td>\n",
              "      <td>https://www.msdmanuals.com/home/heart-and-bloo...</td>\n",
              "    </tr>\n",
              "    <tr>\n",
              "      <th>1</th>\n",
              "      <td>Cardiac Arrest</td>\n",
              "      <td>First-Aid Treatment for Cardiac Arrest\\nThe cr...</td>\n",
              "      <td>MSD manual</td>\n",
              "      <td>https://www.msdmanuals.com/home/heart-and-bloo...</td>\n",
              "    </tr>\n",
              "    <tr>\n",
              "      <th>2</th>\n",
              "      <td>Cardiac Arrest</td>\n",
              "      <td>The crucial links in the chain of survival inc...</td>\n",
              "      <td>MSD manual</td>\n",
              "      <td>https://www.msdmanuals.com/home/heart-and-bloo...</td>\n",
              "    </tr>\n",
              "    <tr>\n",
              "      <th>3</th>\n",
              "      <td>Cardiac Arrest</td>\n",
              "      <td>Automated External Defibrillator: Jump-Startin...</td>\n",
              "      <td>MSD manual</td>\n",
              "      <td>https://www.msdmanuals.com/home/heart-and-bloo...</td>\n",
              "    </tr>\n",
              "    <tr>\n",
              "      <th>4</th>\n",
              "      <td>Cardiac Arrest</td>\n",
              "      <td>Skill in CPR is best obtained through a traini...</td>\n",
              "      <td>MSD manual</td>\n",
              "      <td>https://www.msdmanuals.com/home/heart-and-bloo...</td>\n",
              "    </tr>\n",
              "  </tbody>\n",
              "</table>\n",
              "</div>\n",
              "    <div class=\"colab-df-buttons\">\n",
              "\n",
              "  <div class=\"colab-df-container\">\n",
              "    <button class=\"colab-df-convert\" onclick=\"convertToInteractive('df-deea48e3-5ba3-43a1-bbfb-87b3f03f270d')\"\n",
              "            title=\"Convert this dataframe to an interactive table.\"\n",
              "            style=\"display:none;\">\n",
              "\n",
              "  <svg xmlns=\"http://www.w3.org/2000/svg\" height=\"24px\" viewBox=\"0 -960 960 960\">\n",
              "    <path d=\"M120-120v-720h720v720H120Zm60-500h600v-160H180v160Zm220 220h160v-160H400v160Zm0 220h160v-160H400v160ZM180-400h160v-160H180v160Zm440 0h160v-160H620v160ZM180-180h160v-160H180v160Zm440 0h160v-160H620v160Z\"/>\n",
              "  </svg>\n",
              "    </button>\n",
              "\n",
              "  <style>\n",
              "    .colab-df-container {\n",
              "      display:flex;\n",
              "      gap: 12px;\n",
              "    }\n",
              "\n",
              "    .colab-df-convert {\n",
              "      background-color: #E8F0FE;\n",
              "      border: none;\n",
              "      border-radius: 50%;\n",
              "      cursor: pointer;\n",
              "      display: none;\n",
              "      fill: #1967D2;\n",
              "      height: 32px;\n",
              "      padding: 0 0 0 0;\n",
              "      width: 32px;\n",
              "    }\n",
              "\n",
              "    .colab-df-convert:hover {\n",
              "      background-color: #E2EBFA;\n",
              "      box-shadow: 0px 1px 2px rgba(60, 64, 67, 0.3), 0px 1px 3px 1px rgba(60, 64, 67, 0.15);\n",
              "      fill: #174EA6;\n",
              "    }\n",
              "\n",
              "    .colab-df-buttons div {\n",
              "      margin-bottom: 4px;\n",
              "    }\n",
              "\n",
              "    [theme=dark] .colab-df-convert {\n",
              "      background-color: #3B4455;\n",
              "      fill: #D2E3FC;\n",
              "    }\n",
              "\n",
              "    [theme=dark] .colab-df-convert:hover {\n",
              "      background-color: #434B5C;\n",
              "      box-shadow: 0px 1px 3px 1px rgba(0, 0, 0, 0.15);\n",
              "      filter: drop-shadow(0px 1px 2px rgba(0, 0, 0, 0.3));\n",
              "      fill: #FFFFFF;\n",
              "    }\n",
              "  </style>\n",
              "\n",
              "    <script>\n",
              "      const buttonEl =\n",
              "        document.querySelector('#df-deea48e3-5ba3-43a1-bbfb-87b3f03f270d button.colab-df-convert');\n",
              "      buttonEl.style.display =\n",
              "        google.colab.kernel.accessAllowed ? 'block' : 'none';\n",
              "\n",
              "      async function convertToInteractive(key) {\n",
              "        const element = document.querySelector('#df-deea48e3-5ba3-43a1-bbfb-87b3f03f270d');\n",
              "        const dataTable =\n",
              "          await google.colab.kernel.invokeFunction('convertToInteractive',\n",
              "                                                    [key], {});\n",
              "        if (!dataTable) return;\n",
              "\n",
              "        const docLinkHtml = 'Like what you see? Visit the ' +\n",
              "          '<a target=\"_blank\" href=https://colab.research.google.com/notebooks/data_table.ipynb>data table notebook</a>'\n",
              "          + ' to learn more about interactive tables.';\n",
              "        element.innerHTML = '';\n",
              "        dataTable['output_type'] = 'display_data';\n",
              "        await google.colab.output.renderOutput(dataTable, element);\n",
              "        const docLink = document.createElement('div');\n",
              "        docLink.innerHTML = docLinkHtml;\n",
              "        element.appendChild(docLink);\n",
              "      }\n",
              "    </script>\n",
              "  </div>\n",
              "\n",
              "\n",
              "<div id=\"df-a4b34567-0305-45ea-9648-b923f7c52522\">\n",
              "  <button class=\"colab-df-quickchart\" onclick=\"quickchart('df-a4b34567-0305-45ea-9648-b923f7c52522')\"\n",
              "            title=\"Suggest charts\"\n",
              "            style=\"display:none;\">\n",
              "\n",
              "<svg xmlns=\"http://www.w3.org/2000/svg\" height=\"24px\"viewBox=\"0 0 24 24\"\n",
              "     width=\"24px\">\n",
              "    <g>\n",
              "        <path d=\"M19 3H5c-1.1 0-2 .9-2 2v14c0 1.1.9 2 2 2h14c1.1 0 2-.9 2-2V5c0-1.1-.9-2-2-2zM9 17H7v-7h2v7zm4 0h-2V7h2v10zm4 0h-2v-4h2v4z\"/>\n",
              "    </g>\n",
              "</svg>\n",
              "  </button>\n",
              "\n",
              "<style>\n",
              "  .colab-df-quickchart {\n",
              "      --bg-color: #E8F0FE;\n",
              "      --fill-color: #1967D2;\n",
              "      --hover-bg-color: #E2EBFA;\n",
              "      --hover-fill-color: #174EA6;\n",
              "      --disabled-fill-color: #AAA;\n",
              "      --disabled-bg-color: #DDD;\n",
              "  }\n",
              "\n",
              "  [theme=dark] .colab-df-quickchart {\n",
              "      --bg-color: #3B4455;\n",
              "      --fill-color: #D2E3FC;\n",
              "      --hover-bg-color: #434B5C;\n",
              "      --hover-fill-color: #FFFFFF;\n",
              "      --disabled-bg-color: #3B4455;\n",
              "      --disabled-fill-color: #666;\n",
              "  }\n",
              "\n",
              "  .colab-df-quickchart {\n",
              "    background-color: var(--bg-color);\n",
              "    border: none;\n",
              "    border-radius: 50%;\n",
              "    cursor: pointer;\n",
              "    display: none;\n",
              "    fill: var(--fill-color);\n",
              "    height: 32px;\n",
              "    padding: 0;\n",
              "    width: 32px;\n",
              "  }\n",
              "\n",
              "  .colab-df-quickchart:hover {\n",
              "    background-color: var(--hover-bg-color);\n",
              "    box-shadow: 0 1px 2px rgba(60, 64, 67, 0.3), 0 1px 3px 1px rgba(60, 64, 67, 0.15);\n",
              "    fill: var(--button-hover-fill-color);\n",
              "  }\n",
              "\n",
              "  .colab-df-quickchart-complete:disabled,\n",
              "  .colab-df-quickchart-complete:disabled:hover {\n",
              "    background-color: var(--disabled-bg-color);\n",
              "    fill: var(--disabled-fill-color);\n",
              "    box-shadow: none;\n",
              "  }\n",
              "\n",
              "  .colab-df-spinner {\n",
              "    border: 2px solid var(--fill-color);\n",
              "    border-color: transparent;\n",
              "    border-bottom-color: var(--fill-color);\n",
              "    animation:\n",
              "      spin 1s steps(1) infinite;\n",
              "  }\n",
              "\n",
              "  @keyframes spin {\n",
              "    0% {\n",
              "      border-color: transparent;\n",
              "      border-bottom-color: var(--fill-color);\n",
              "      border-left-color: var(--fill-color);\n",
              "    }\n",
              "    20% {\n",
              "      border-color: transparent;\n",
              "      border-left-color: var(--fill-color);\n",
              "      border-top-color: var(--fill-color);\n",
              "    }\n",
              "    30% {\n",
              "      border-color: transparent;\n",
              "      border-left-color: var(--fill-color);\n",
              "      border-top-color: var(--fill-color);\n",
              "      border-right-color: var(--fill-color);\n",
              "    }\n",
              "    40% {\n",
              "      border-color: transparent;\n",
              "      border-right-color: var(--fill-color);\n",
              "      border-top-color: var(--fill-color);\n",
              "    }\n",
              "    60% {\n",
              "      border-color: transparent;\n",
              "      border-right-color: var(--fill-color);\n",
              "    }\n",
              "    80% {\n",
              "      border-color: transparent;\n",
              "      border-right-color: var(--fill-color);\n",
              "      border-bottom-color: var(--fill-color);\n",
              "    }\n",
              "    90% {\n",
              "      border-color: transparent;\n",
              "      border-bottom-color: var(--fill-color);\n",
              "    }\n",
              "  }\n",
              "</style>\n",
              "\n",
              "  <script>\n",
              "    async function quickchart(key) {\n",
              "      const quickchartButtonEl =\n",
              "        document.querySelector('#' + key + ' button');\n",
              "      quickchartButtonEl.disabled = true;  // To prevent multiple clicks.\n",
              "      quickchartButtonEl.classList.add('colab-df-spinner');\n",
              "      try {\n",
              "        const charts = await google.colab.kernel.invokeFunction(\n",
              "            'suggestCharts', [key], {});\n",
              "      } catch (error) {\n",
              "        console.error('Error during call to suggestCharts:', error);\n",
              "      }\n",
              "      quickchartButtonEl.classList.remove('colab-df-spinner');\n",
              "      quickchartButtonEl.classList.add('colab-df-quickchart-complete');\n",
              "    }\n",
              "    (() => {\n",
              "      let quickchartButtonEl =\n",
              "        document.querySelector('#df-a4b34567-0305-45ea-9648-b923f7c52522 button');\n",
              "      quickchartButtonEl.style.display =\n",
              "        google.colab.kernel.accessAllowed ? 'block' : 'none';\n",
              "    })();\n",
              "  </script>\n",
              "</div>\n",
              "\n",
              "    </div>\n",
              "  </div>\n"
            ],
            "application/vnd.google.colaboratory.intrinsic+json": {
              "type": "dataframe",
              "variable_name": "df",
              "summary": "{\n  \"name\": \"df\",\n  \"rows\": 57,\n  \"fields\": [\n    {\n      \"column\": \"Type of emergency\",\n      \"properties\": {\n        \"dtype\": \"category\",\n        \"num_unique_values\": 12,\n        \"samples\": [\n          \"Health Care Provider Requests EMS\",\n          \"Headache\",\n          \"Cardiac Arrest\"\n        ],\n        \"semantic_type\": \"\",\n        \"description\": \"\"\n      }\n    },\n    {\n      \"column\": \"Answer\",\n      \"properties\": {\n        \"dtype\": \"string\",\n        \"num_unique_values\": 57,\n        \"samples\": [\n          \"Cardiac arrest is when the heart stops pumping blood and oxygen to the brain and other organs and tissues. Sometimes a person can be revived after cardiac arrest, particularly if treatment is started immediately. However, the more time that passes without oxygen-containing blood being pumped to the brain, the less likely it is that the person can be revived, and, if revived, the more likely it is that the person will have brain damage.\\n\\nBrain damage is likely if cardiac arrest lasts for more than 5 minutes without the first aid intervention of cardiopulmonary resuscitation (CPR). Death is likely if cardiac arrest lasts for more than 8 minutes. Thus, CPR for cardiac arrest must be started as quickly as possible.\\n\\nCardiac arrest can be caused by anything that makes the heart stop beating. One common cause, especially in adults, is an abnormal heart rhythm (arrhythmia). Another possible cause is stopping breathing, such as when a person drowns or has a severe lung infection or severe asthma attack.\\n\\nA person in cardiac arrest lies motionless and does not respond to questions or to stimulation, such as shaking. The person may not be breathing or may have gasping, irregular breaths called agonal breathing.\",\n          \"CPR: How Effective Is It Really?\\r\\n\\r\\nOn television and in the movies, people who collapse due to cardiac arrest and receive cardiopulmonary resuscitation (CPR) often awaken during, or after, CPR is done.\\r\\n\\r\\nIn real life, it is much less likely that people will be revived by CPR itself. Instead, CPR is done to circulate oxygen-containing blood from the lungs to the brain and organs until the heart can be restarted with a defibrillator, often with the help of special drugs given by emergency medical services personnel.\\r\\n\\r\\nOnly a small percentage of people who suffer cardiac arrest will survive until they reach a hospital. Even those who reach the hospital alive often die as a result of the underlying heart problem before they can be discharged. Of those people who are able to leave the hospital, many will not regain their normal mental function. The most important factors that influence whether a person will survive cardiac arrest and return to normal life after hospital discharge are early initiation of CPR and early defibrillation.\\r\\n\\r\\nUsually in television or film, CPR is done on a young, relatively healthy person, sometimes someone who has suffered a serious injury. In reality, most people who need CPR are older adults who often have many serious underlying illnesses. These people are much less likely to have a good outcome after CPR. Also, CPR is rarely effective if the cause of cardiac arrest is a traumatic injury.\\r\\n\\r\\nIn television and film, the person either dies or recovers fully. In reality, many people who survive cardiac arrest have serious disabilities as a result of the lack of blood flow to the brain.\",\n          \"Start of labor\\r\\nLabor usually begins with\\r\\n\\r\\nContractions in the lower abdomen at regular intervals\\r\\n\\r\\nSometimes back pain\\r\\n\\r\\nA woman who has had rapid deliveries in previous pregnancies should notify her doctor as soon as she thinks she is going into labor. When contractions in the lower abdomen first start, they may be weak, irregular, and far apart. They may feel like menstrual cramps. As time passes, uterine contractions become longer, stronger, and closer together. Contractions and back pain may be preceded or accompanied by other signs of labor, such as the following:\\r\\n\\r\\nBloody show: A small discharge of blood mixed with mucus (passing the \\\"mucus plug\\\") from the vagina may be an early sign that labor is about to start. However, bloody show may also occur as a result of sexual intercourse. The bloody show may appear as early as 72 hours before contractions start. Pregnant women should contact their healthcare professional if any vaginal bleeding occurs, because an evaluation at a doctor's office or hospital may be needed.\\r\\n\\r\\nRupture of membranes: Usually, the fluid-filled membranes that contain the fetus (amniotic sac) rupture during labor, and the amniotic fluid flows out through the vagina. This event is commonly described as \\u201cthe water breaks.\\u201d Occasionally, the membranes rupture before labor starts. Rupture of membranes before labor begins is called prelabor rupture of membranes. Some women feel a gush of fluid from the vagina, followed by steady leaking. Sometimes it is difficult to know if the leaking fluid is amniotic fluid, urine, or vaginal discharge.\\r\\n\\r\\nIf a woman\\u2019s membranes rupture, she should contact her doctor or midwife immediately. About 80 to 90% of women whose membranes rupture at or near their due date go into labor spontaneously within 24 hours. If labor has not started after several hours and the baby is due, women are usually admitted to the hospital, where labor is artificially started (induced) to reduce the risk of infection. After the membranes rupture, bacteria from the vagina can enter the uterus more easily and cause an infection in the woman, the fetus, or both.\\r\\n\\r\\nAfter a woman with prelabor rupture of membranes is admitted to a birthing center, oxytocin (which causes the uterus to contract) or a similar medication, such as a prostaglandin, is used to induce labor. However, if the membranes rupture more than 6 weeks before the due date (preterm, or before the 34th week), doctors do not typically induce labor until the fetus is more mature.\"\n        ],\n        \"semantic_type\": \"\",\n        \"description\": \"\"\n      }\n    },\n    {\n      \"column\": \"Reference\",\n      \"properties\": {\n        \"dtype\": \"category\",\n        \"num_unique_values\": 6,\n        \"samples\": [\n          \"MSD manual\",\n          \"Mayo Clinic blog\",\n          \"FDA US Website\"\n        ],\n        \"semantic_type\": \"\",\n        \"description\": \"\"\n      }\n    },\n    {\n      \"column\": \"Link\",\n      \"properties\": {\n        \"dtype\": \"category\",\n        \"num_unique_values\": 25,\n        \"samples\": [\n          \"https://www.msdmanuals.com/home/heart-and-blood-vessel-disorders/cardiac-arrest-and-cpr/cardiac-arrest-and-cpr#Standard-CPR_v79738937\",\n          \"https://www.msdmanuals.com/home/women-s-health-issues/labor-and-delivery/labor\",\n          \"https://www.msdmanuals.com/home/heart-and-blood-vessel-disorders/cardiac-arrest-and-cpr/cardiac-arrest-and-cpr#Standard-CPR_v79738929\"\n        ],\n        \"semantic_type\": \"\",\n        \"description\": \"\"\n      }\n    }\n  ]\n}"
            }
          },
          "metadata": {},
          "execution_count": 66
        }
      ]
    },
    {
      "cell_type": "code",
      "source": [
        "documents = []\n",
        "for _, row in df.iterrows():\n",
        "    chuncks = character_text_splitter.split_text(f\"{row['Answer']}\")\n",
        "    for chunck in chuncks:\n",
        "      documents.append(Document(\n",
        "          page_content = chunck,\n",
        "          metadata = {\"Reference\": f\"{row['Reference']}\", \"Link\": f\"{row['Link']}\"}))"
      ],
      "metadata": {
        "id": "MiI_vEE5qw2b",
        "outputId": "d60b0612-bbf4-42f0-8fc3-fbacb5bb13d1",
        "colab": {
          "base_uri": "https://localhost:8080/"
        }
      },
      "execution_count": null,
      "outputs": [
        {
          "output_type": "stream",
          "name": "stderr",
          "text": [
            "WARNING:langchain_text_splitters.base:Created a chunk of size 530, which is longer than the specified 500\n",
            "WARNING:langchain_text_splitters.base:Created a chunk of size 699, which is longer than the specified 500\n",
            "WARNING:langchain_text_splitters.base:Created a chunk of size 721, which is longer than the specified 500\n",
            "WARNING:langchain_text_splitters.base:Created a chunk of size 621, which is longer than the specified 500\n"
          ]
        }
      ]
    },
    {
      "cell_type": "code",
      "source": [
        "embeddings = CohereEmbeddings(cohere_api_key= cohere_secret_key, user_agent='dispatch-ai')\n",
        "vector_store = Pinecone_Langchain.from_documents(documents, embeddings, index_name=index)"
      ],
      "metadata": {
        "id": "TnDYhw4-spup"
      },
      "execution_count": null,
      "outputs": []
    },
    {
      "cell_type": "code",
      "source": [
        "retriever = vector_store.as_retriever()\n",
        "matched_docs = retriever.get_relevant_documents('What is Cardiac Arrest?')\n",
        "for i, d in enumerate(matched_docs):\n",
        "    print(f\"\\n## Document {i}\\n\")\n",
        "    print(d.page_content)\n",
        "    print(d.metadata)"
      ],
      "metadata": {
        "id": "KANr2k5GufKZ",
        "outputId": "a89b1c66-6709-4b40-c546-6a31c1507be4",
        "colab": {
          "base_uri": "https://localhost:8080/"
        }
      },
      "execution_count": null,
      "outputs": [
        {
          "output_type": "stream",
          "name": "stdout",
          "text": [
            "\n",
            "## Document 0\n",
            "\n",
            "Cardiac arrest is when the heart stops pumping blood and oxygen to the brain and other organs and tissues. Sometimes a person can be revived after cardiac arrest, particularly if treatment is started immediately. However, the more time that passes without oxygen-containing blood being pumped to the brain, the less likely it is that the person can be revived, and, if revived, the more likely it is that the person will have brain damage.\n",
            "{'Link': 'https://www.msdmanuals.com/home/heart-and-blood-vessel-disorders/cardiac-arrest-and-cpr/cardiac-arrest-and-cpr#Standard-CPR_v79738929', 'Reference': 'MSD manual'}\n",
            "\n",
            "## Document 1\n",
            "\n",
            "Cardiac arrest can be caused by anything that makes the heart stop beating. One common cause, especially in adults, is an abnormal heart rhythm (arrhythmia). Another possible cause is stopping breathing, such as when a person drowns or has a severe lung infection or severe asthma attack.\n",
            "\n",
            "A person in cardiac arrest lies motionless and does not respond to questions or to stimulation, such as shaking. The person may not be breathing or may have gasping, irregular breaths called agonal breathing.\n",
            "{'Link': 'https://www.msdmanuals.com/home/heart-and-blood-vessel-disorders/cardiac-arrest-and-cpr/cardiac-arrest-and-cpr#Standard-CPR_v79738929', 'Reference': 'MSD manual'}\n",
            "\n",
            "## Document 2\n",
            "\n",
            "Brain damage is likely if cardiac arrest lasts for more than 5 minutes without the first aid intervention of cardiopulmonary resuscitation (CPR). Death is likely if cardiac arrest lasts for more than 8 minutes. Thus, CPR for cardiac arrest must be started as quickly as possible.\n",
            "{'Link': 'https://www.msdmanuals.com/home/heart-and-blood-vessel-disorders/cardiac-arrest-and-cpr/cardiac-arrest-and-cpr#Standard-CPR_v79738929', 'Reference': 'MSD manual'}\n",
            "\n",
            "## Document 3\n",
            "\n",
            "First-Aid Treatment for Cardiac Arrest\n",
            "The crucial steps that should be done to maximize a person's chance of survival are called the cardiac arrest chain of survival. The survival chain begins with bystander recognition of cardiac arrest and continues through calling for emergency services, providing cardiopulmonary resuscitation (CPR) and defibrillation when available, and giving high-quality post-arrest care in a hospital. Without successful accomplishment of each of these steps, it is unlikely that a person will survive.\n",
            "{'Link': 'https://www.msdmanuals.com/home/heart-and-blood-vessel-disorders/cardiac-arrest-and-cpr/cardiac-arrest-and-cpr#Standard-CPR_v79738930', 'Reference': 'MSD manual'}\n"
          ]
        }
      ]
    },
    {
      "cell_type": "code",
      "source": [
        "# Adding some useful books to the knowledge base\n",
        "doc_reader = PdfReader('/content/Emergency Call Management - People at risk.pdf')"
      ],
      "metadata": {
        "id": "mf3XcIlKEIOC"
      },
      "execution_count": null,
      "outputs": []
    },
    {
      "cell_type": "code",
      "source": [
        "raw_text = ''\n",
        "for _, page in enumerate(doc_reader.pages):\n",
        "    text = page.extract_text()\n",
        "    if text:\n",
        "        raw_text += text"
      ],
      "metadata": {
        "id": "BRyDa_teM6TA"
      },
      "execution_count": null,
      "outputs": []
    },
    {
      "cell_type": "code",
      "source": [
        "chunks = recursive_text_splitter.split_text(raw_text)"
      ],
      "metadata": {
        "id": "bcoJm9noM6_v"
      },
      "execution_count": null,
      "outputs": []
    },
    {
      "cell_type": "code",
      "source": [
        "docs = []\n",
        "for chunk in chunks:\n",
        "  docs.append(Document(\n",
        "        page_content=chunk,\n",
        "        metadata={\"Reference\": \"Emergency call management: People at risk\", \"Link\": \"https://nfcc.org.uk/wp-content/uploads/2023/11/EmergencycallmanagementpeopleatriskConsultationdoc.pdf\"},\n",
        "  ))"
      ],
      "metadata": {
        "id": "tf_SDQbyM9Bj"
      },
      "execution_count": null,
      "outputs": []
    },
    {
      "cell_type": "code",
      "source": [
        "embeddings = CohereEmbeddings(cohere_api_key= cohere_secret_key, user_agent='dispatch-ai')\n",
        "vector_store = Pinecone_Langchain.from_documents(documents, embeddings, index_name=index)"
      ],
      "metadata": {
        "id": "urj51Ms4M_i-"
      },
      "execution_count": null,
      "outputs": []
    },
    {
      "cell_type": "code",
      "source": [
        "doc_reader = PdfReader('/content/Emergency Medical Dispatch Procedure.pdf')"
      ],
      "metadata": {
        "id": "5EWcWO09pkKq"
      },
      "execution_count": null,
      "outputs": []
    },
    {
      "cell_type": "code",
      "source": [
        "raw_text = ''\n",
        "for _, page in enumerate(doc_reader.pages):\n",
        "    text = page.extract_text()\n",
        "    if text:\n",
        "        raw_text += text"
      ],
      "metadata": {
        "id": "OJtzFGtkqJua"
      },
      "execution_count": null,
      "outputs": []
    },
    {
      "cell_type": "code",
      "source": [
        "docs = []\n",
        "for chunk in chunks:\n",
        "  docs.append(Document(\n",
        "        page_content=chunk,\n",
        "        metadata={\"Reference\": \"Emergency Medical Dispatch Procedure\", \"Link\": \"http://ma911.org/_wp/wp-content/uploads/2015/06/EMD-Procedures-March-08.pdf\"},\n",
        "  ))"
      ],
      "metadata": {
        "id": "GAwd1jfeqKh8"
      },
      "execution_count": null,
      "outputs": []
    },
    {
      "cell_type": "code",
      "source": [
        "embeddings = CohereEmbeddings(cohere_api_key= cohere_secret_key, user_agent='dispatch-ai')\n",
        "vector_store = Pinecone_Langchain.from_documents(documents, embeddings, index_name=index)"
      ],
      "metadata": {
        "id": "LiyAHuaOq1qi"
      },
      "execution_count": null,
      "outputs": []
    },
    {
      "cell_type": "code",
      "source": [
        "# Fill the vector database with simulations\n",
        "sheet_url = 'https://docs.google.com/spreadsheets/d/1J8gwsPwp8gc2cue-S1eu9I_8pcTQ2oezXnE6RZWGhMg/edit?usp=sharing'\n",
        "df = pd.read_csv(convert_google_sheet_url(sheet_url))\n",
        "df.head()"
      ],
      "metadata": {
        "id": "2kOMeMg4q28L",
        "outputId": "153fb432-4c50-459f-ddda-3a08740cc597",
        "colab": {
          "base_uri": "https://localhost:8080/",
          "height": 483
        }
      },
      "execution_count": 7,
      "outputs": [
        {
          "output_type": "execute_result",
          "data": {
            "text/plain": [
              "  Type of emergency                                           scenario  \\\n",
              "0    Cardiac Arrest   A family member finds an elderly person uncon...   \n",
              "1    Cardiac Arrest  A person collapses at a shopping mall, and a b...   \n",
              "2    Cardiac Arrest  A gym member collapses during a workout, and t...   \n",
              "3    Cardiac Arrest   A student collapses in the classroom, and the...   \n",
              "4          Choking   An adult is experiencing a partial airway obst...   \n",
              "\n",
              "                                               Title  \\\n",
              "0                      Elderly Cardiac Arrest Rescue   \n",
              "1                    Cardiac Arrest at Shopping Mall   \n",
              "2                          Gym Member Cardiac Arrest   \n",
              "3      Cardiac Arrest: Student Collapse in Classroom   \n",
              "4  Partial Airway Obstruction: Distressed Adult C...   \n",
              "\n",
              "                                      protocol steps  \\\n",
              "0  Protocol steps:\\nCheck Responsiveness: Shake t...   \n",
              "1  Check Responsiveness: Ensure the person is unr...   \n",
              "2  Check Responsiveness: Assess if the person is ...   \n",
              "3  Check Responsiveness: Verify if the student is...   \n",
              "4  Confirm that the person is choking.\\nEncourage...   \n",
              "\n",
              "                                        conversation  \\\n",
              "0  Dispatcher: \"911, what's your emergency?\"\\nCal...   \n",
              "1  Dispatcher: \"911, what's your emergency?\"\\nCal...   \n",
              "2  Dispatcher: \"911, what’s your emergency?\"\\nCal...   \n",
              "3  Dispatcher: \"911, what’s your emergency?\"\\nCal...   \n",
              "4  Dispatcher: \"911, what is your emergency?\"\\nCa...   \n",
              "\n",
              "                                 reference  \\\n",
              "0  Emergency Medical Dispatch Guide Cards    \n",
              "1  Emergency Medical Dispatch Guide Cards    \n",
              "2  Emergency Medical Dispatch Guide Cards    \n",
              "3  Emergency Medical Dispatch Guide Cards    \n",
              "4  Emergency Medical Dispatch Guide Cards    \n",
              "\n",
              "                                                link  \n",
              "0  https://ia903008.us.archive.org/view_archive.p...  \n",
              "1  https://ia903008.us.archive.org/view_archive.p...  \n",
              "2  https://ia903008.us.archive.org/view_archive.p...  \n",
              "3  https://ia903008.us.archive.org/view_archive.p...  \n",
              "4  https://ia903008.us.archive.org/view_archive.p...  "
            ],
            "text/html": [
              "\n",
              "  <div id=\"df-678aab70-72f3-4cdc-8f9e-a826d5daf951\" class=\"colab-df-container\">\n",
              "    <div>\n",
              "<style scoped>\n",
              "    .dataframe tbody tr th:only-of-type {\n",
              "        vertical-align: middle;\n",
              "    }\n",
              "\n",
              "    .dataframe tbody tr th {\n",
              "        vertical-align: top;\n",
              "    }\n",
              "\n",
              "    .dataframe thead th {\n",
              "        text-align: right;\n",
              "    }\n",
              "</style>\n",
              "<table border=\"1\" class=\"dataframe\">\n",
              "  <thead>\n",
              "    <tr style=\"text-align: right;\">\n",
              "      <th></th>\n",
              "      <th>Type of emergency</th>\n",
              "      <th>scenario</th>\n",
              "      <th>Title</th>\n",
              "      <th>protocol steps</th>\n",
              "      <th>conversation</th>\n",
              "      <th>reference</th>\n",
              "      <th>link</th>\n",
              "    </tr>\n",
              "  </thead>\n",
              "  <tbody>\n",
              "    <tr>\n",
              "      <th>0</th>\n",
              "      <td>Cardiac Arrest</td>\n",
              "      <td>A family member finds an elderly person uncon...</td>\n",
              "      <td>Elderly Cardiac Arrest Rescue</td>\n",
              "      <td>Protocol steps:\\nCheck Responsiveness: Shake t...</td>\n",
              "      <td>Dispatcher: \"911, what's your emergency?\"\\nCal...</td>\n",
              "      <td>Emergency Medical Dispatch Guide Cards</td>\n",
              "      <td>https://ia903008.us.archive.org/view_archive.p...</td>\n",
              "    </tr>\n",
              "    <tr>\n",
              "      <th>1</th>\n",
              "      <td>Cardiac Arrest</td>\n",
              "      <td>A person collapses at a shopping mall, and a b...</td>\n",
              "      <td>Cardiac Arrest at Shopping Mall</td>\n",
              "      <td>Check Responsiveness: Ensure the person is unr...</td>\n",
              "      <td>Dispatcher: \"911, what's your emergency?\"\\nCal...</td>\n",
              "      <td>Emergency Medical Dispatch Guide Cards</td>\n",
              "      <td>https://ia903008.us.archive.org/view_archive.p...</td>\n",
              "    </tr>\n",
              "    <tr>\n",
              "      <th>2</th>\n",
              "      <td>Cardiac Arrest</td>\n",
              "      <td>A gym member collapses during a workout, and t...</td>\n",
              "      <td>Gym Member Cardiac Arrest</td>\n",
              "      <td>Check Responsiveness: Assess if the person is ...</td>\n",
              "      <td>Dispatcher: \"911, what’s your emergency?\"\\nCal...</td>\n",
              "      <td>Emergency Medical Dispatch Guide Cards</td>\n",
              "      <td>https://ia903008.us.archive.org/view_archive.p...</td>\n",
              "    </tr>\n",
              "    <tr>\n",
              "      <th>3</th>\n",
              "      <td>Cardiac Arrest</td>\n",
              "      <td>A student collapses in the classroom, and the...</td>\n",
              "      <td>Cardiac Arrest: Student Collapse in Classroom</td>\n",
              "      <td>Check Responsiveness: Verify if the student is...</td>\n",
              "      <td>Dispatcher: \"911, what’s your emergency?\"\\nCal...</td>\n",
              "      <td>Emergency Medical Dispatch Guide Cards</td>\n",
              "      <td>https://ia903008.us.archive.org/view_archive.p...</td>\n",
              "    </tr>\n",
              "    <tr>\n",
              "      <th>4</th>\n",
              "      <td>Choking</td>\n",
              "      <td>An adult is experiencing a partial airway obst...</td>\n",
              "      <td>Partial Airway Obstruction: Distressed Adult C...</td>\n",
              "      <td>Confirm that the person is choking.\\nEncourage...</td>\n",
              "      <td>Dispatcher: \"911, what is your emergency?\"\\nCa...</td>\n",
              "      <td>Emergency Medical Dispatch Guide Cards</td>\n",
              "      <td>https://ia903008.us.archive.org/view_archive.p...</td>\n",
              "    </tr>\n",
              "  </tbody>\n",
              "</table>\n",
              "</div>\n",
              "    <div class=\"colab-df-buttons\">\n",
              "\n",
              "  <div class=\"colab-df-container\">\n",
              "    <button class=\"colab-df-convert\" onclick=\"convertToInteractive('df-678aab70-72f3-4cdc-8f9e-a826d5daf951')\"\n",
              "            title=\"Convert this dataframe to an interactive table.\"\n",
              "            style=\"display:none;\">\n",
              "\n",
              "  <svg xmlns=\"http://www.w3.org/2000/svg\" height=\"24px\" viewBox=\"0 -960 960 960\">\n",
              "    <path d=\"M120-120v-720h720v720H120Zm60-500h600v-160H180v160Zm220 220h160v-160H400v160Zm0 220h160v-160H400v160ZM180-400h160v-160H180v160Zm440 0h160v-160H620v160ZM180-180h160v-160H180v160Zm440 0h160v-160H620v160Z\"/>\n",
              "  </svg>\n",
              "    </button>\n",
              "\n",
              "  <style>\n",
              "    .colab-df-container {\n",
              "      display:flex;\n",
              "      gap: 12px;\n",
              "    }\n",
              "\n",
              "    .colab-df-convert {\n",
              "      background-color: #E8F0FE;\n",
              "      border: none;\n",
              "      border-radius: 50%;\n",
              "      cursor: pointer;\n",
              "      display: none;\n",
              "      fill: #1967D2;\n",
              "      height: 32px;\n",
              "      padding: 0 0 0 0;\n",
              "      width: 32px;\n",
              "    }\n",
              "\n",
              "    .colab-df-convert:hover {\n",
              "      background-color: #E2EBFA;\n",
              "      box-shadow: 0px 1px 2px rgba(60, 64, 67, 0.3), 0px 1px 3px 1px rgba(60, 64, 67, 0.15);\n",
              "      fill: #174EA6;\n",
              "    }\n",
              "\n",
              "    .colab-df-buttons div {\n",
              "      margin-bottom: 4px;\n",
              "    }\n",
              "\n",
              "    [theme=dark] .colab-df-convert {\n",
              "      background-color: #3B4455;\n",
              "      fill: #D2E3FC;\n",
              "    }\n",
              "\n",
              "    [theme=dark] .colab-df-convert:hover {\n",
              "      background-color: #434B5C;\n",
              "      box-shadow: 0px 1px 3px 1px rgba(0, 0, 0, 0.15);\n",
              "      filter: drop-shadow(0px 1px 2px rgba(0, 0, 0, 0.3));\n",
              "      fill: #FFFFFF;\n",
              "    }\n",
              "  </style>\n",
              "\n",
              "    <script>\n",
              "      const buttonEl =\n",
              "        document.querySelector('#df-678aab70-72f3-4cdc-8f9e-a826d5daf951 button.colab-df-convert');\n",
              "      buttonEl.style.display =\n",
              "        google.colab.kernel.accessAllowed ? 'block' : 'none';\n",
              "\n",
              "      async function convertToInteractive(key) {\n",
              "        const element = document.querySelector('#df-678aab70-72f3-4cdc-8f9e-a826d5daf951');\n",
              "        const dataTable =\n",
              "          await google.colab.kernel.invokeFunction('convertToInteractive',\n",
              "                                                    [key], {});\n",
              "        if (!dataTable) return;\n",
              "\n",
              "        const docLinkHtml = 'Like what you see? Visit the ' +\n",
              "          '<a target=\"_blank\" href=https://colab.research.google.com/notebooks/data_table.ipynb>data table notebook</a>'\n",
              "          + ' to learn more about interactive tables.';\n",
              "        element.innerHTML = '';\n",
              "        dataTable['output_type'] = 'display_data';\n",
              "        await google.colab.output.renderOutput(dataTable, element);\n",
              "        const docLink = document.createElement('div');\n",
              "        docLink.innerHTML = docLinkHtml;\n",
              "        element.appendChild(docLink);\n",
              "      }\n",
              "    </script>\n",
              "  </div>\n",
              "\n",
              "\n",
              "<div id=\"df-5708c86b-d9e6-4e62-a5a2-4e76b20efc84\">\n",
              "  <button class=\"colab-df-quickchart\" onclick=\"quickchart('df-5708c86b-d9e6-4e62-a5a2-4e76b20efc84')\"\n",
              "            title=\"Suggest charts\"\n",
              "            style=\"display:none;\">\n",
              "\n",
              "<svg xmlns=\"http://www.w3.org/2000/svg\" height=\"24px\"viewBox=\"0 0 24 24\"\n",
              "     width=\"24px\">\n",
              "    <g>\n",
              "        <path d=\"M19 3H5c-1.1 0-2 .9-2 2v14c0 1.1.9 2 2 2h14c1.1 0 2-.9 2-2V5c0-1.1-.9-2-2-2zM9 17H7v-7h2v7zm4 0h-2V7h2v10zm4 0h-2v-4h2v4z\"/>\n",
              "    </g>\n",
              "</svg>\n",
              "  </button>\n",
              "\n",
              "<style>\n",
              "  .colab-df-quickchart {\n",
              "      --bg-color: #E8F0FE;\n",
              "      --fill-color: #1967D2;\n",
              "      --hover-bg-color: #E2EBFA;\n",
              "      --hover-fill-color: #174EA6;\n",
              "      --disabled-fill-color: #AAA;\n",
              "      --disabled-bg-color: #DDD;\n",
              "  }\n",
              "\n",
              "  [theme=dark] .colab-df-quickchart {\n",
              "      --bg-color: #3B4455;\n",
              "      --fill-color: #D2E3FC;\n",
              "      --hover-bg-color: #434B5C;\n",
              "      --hover-fill-color: #FFFFFF;\n",
              "      --disabled-bg-color: #3B4455;\n",
              "      --disabled-fill-color: #666;\n",
              "  }\n",
              "\n",
              "  .colab-df-quickchart {\n",
              "    background-color: var(--bg-color);\n",
              "    border: none;\n",
              "    border-radius: 50%;\n",
              "    cursor: pointer;\n",
              "    display: none;\n",
              "    fill: var(--fill-color);\n",
              "    height: 32px;\n",
              "    padding: 0;\n",
              "    width: 32px;\n",
              "  }\n",
              "\n",
              "  .colab-df-quickchart:hover {\n",
              "    background-color: var(--hover-bg-color);\n",
              "    box-shadow: 0 1px 2px rgba(60, 64, 67, 0.3), 0 1px 3px 1px rgba(60, 64, 67, 0.15);\n",
              "    fill: var(--button-hover-fill-color);\n",
              "  }\n",
              "\n",
              "  .colab-df-quickchart-complete:disabled,\n",
              "  .colab-df-quickchart-complete:disabled:hover {\n",
              "    background-color: var(--disabled-bg-color);\n",
              "    fill: var(--disabled-fill-color);\n",
              "    box-shadow: none;\n",
              "  }\n",
              "\n",
              "  .colab-df-spinner {\n",
              "    border: 2px solid var(--fill-color);\n",
              "    border-color: transparent;\n",
              "    border-bottom-color: var(--fill-color);\n",
              "    animation:\n",
              "      spin 1s steps(1) infinite;\n",
              "  }\n",
              "\n",
              "  @keyframes spin {\n",
              "    0% {\n",
              "      border-color: transparent;\n",
              "      border-bottom-color: var(--fill-color);\n",
              "      border-left-color: var(--fill-color);\n",
              "    }\n",
              "    20% {\n",
              "      border-color: transparent;\n",
              "      border-left-color: var(--fill-color);\n",
              "      border-top-color: var(--fill-color);\n",
              "    }\n",
              "    30% {\n",
              "      border-color: transparent;\n",
              "      border-left-color: var(--fill-color);\n",
              "      border-top-color: var(--fill-color);\n",
              "      border-right-color: var(--fill-color);\n",
              "    }\n",
              "    40% {\n",
              "      border-color: transparent;\n",
              "      border-right-color: var(--fill-color);\n",
              "      border-top-color: var(--fill-color);\n",
              "    }\n",
              "    60% {\n",
              "      border-color: transparent;\n",
              "      border-right-color: var(--fill-color);\n",
              "    }\n",
              "    80% {\n",
              "      border-color: transparent;\n",
              "      border-right-color: var(--fill-color);\n",
              "      border-bottom-color: var(--fill-color);\n",
              "    }\n",
              "    90% {\n",
              "      border-color: transparent;\n",
              "      border-bottom-color: var(--fill-color);\n",
              "    }\n",
              "  }\n",
              "</style>\n",
              "\n",
              "  <script>\n",
              "    async function quickchart(key) {\n",
              "      const quickchartButtonEl =\n",
              "        document.querySelector('#' + key + ' button');\n",
              "      quickchartButtonEl.disabled = true;  // To prevent multiple clicks.\n",
              "      quickchartButtonEl.classList.add('colab-df-spinner');\n",
              "      try {\n",
              "        const charts = await google.colab.kernel.invokeFunction(\n",
              "            'suggestCharts', [key], {});\n",
              "      } catch (error) {\n",
              "        console.error('Error during call to suggestCharts:', error);\n",
              "      }\n",
              "      quickchartButtonEl.classList.remove('colab-df-spinner');\n",
              "      quickchartButtonEl.classList.add('colab-df-quickchart-complete');\n",
              "    }\n",
              "    (() => {\n",
              "      let quickchartButtonEl =\n",
              "        document.querySelector('#df-5708c86b-d9e6-4e62-a5a2-4e76b20efc84 button');\n",
              "      quickchartButtonEl.style.display =\n",
              "        google.colab.kernel.accessAllowed ? 'block' : 'none';\n",
              "    })();\n",
              "  </script>\n",
              "</div>\n",
              "\n",
              "    </div>\n",
              "  </div>\n"
            ],
            "application/vnd.google.colaboratory.intrinsic+json": {
              "type": "dataframe",
              "variable_name": "df",
              "summary": "{\n  \"name\": \"df\",\n  \"rows\": 56,\n  \"fields\": [\n    {\n      \"column\": \"Type of emergency\",\n      \"properties\": {\n        \"dtype\": \"category\",\n        \"num_unique_values\": 19,\n        \"samples\": [\n          \"Cardiac Arrest\",\n          \"Electrocution\",\n          \"Unconscious \"\n        ],\n        \"semantic_type\": \"\",\n        \"description\": \"\"\n      }\n    },\n    {\n      \"column\": \"scenario\",\n      \"properties\": {\n        \"dtype\": \"string\",\n        \"num_unique_values\": 56,\n        \"samples\": [\n          \" A family member finds an elderly person unconscious on the living room floor, not breathing and without a pulse.\",\n          \" A child is choking with a complete airway obstruction and cannot speak or cough.\",\n          \"A car accident involving multiple vehicles with potential head injuries, fractures, and bleeding.\"\n        ],\n        \"semantic_type\": \"\",\n        \"description\": \"\"\n      }\n    },\n    {\n      \"column\": \"Title\",\n      \"properties\": {\n        \"dtype\": \"string\",\n        \"num_unique_values\": 55,\n        \"samples\": [\n          \"Severe Abdominal Bleeding from Knife Wound\",\n          \"Infant Choking: Complete Airway Obstruction\",\n          \"Multi-Vehicle Car Accident with Potential Head Injuries, Fractures, and Bleeding\"\n        ],\n        \"semantic_type\": \"\",\n        \"description\": \"\"\n      }\n    },\n    {\n      \"column\": \"protocol steps\",\n      \"properties\": {\n        \"dtype\": \"string\",\n        \"num_unique_values\": 56,\n        \"samples\": [\n          \"Protocol steps:\\nCheck Responsiveness: Shake the person gently and shout their name.\\nCall 911: Confirm the caller has already called emergency services.\\nStart CPR: Instruct the caller to begin chest compressions immediately.\\nUse AED: If an AED is available, instruct the caller on its use.\\nContinuous CPR: Ensure the caller continues CPR until EMS arrives.\\nGather Information: Obtain details about the patient\\u2019s medical history and events leading up to the incident.\",\n          \"Confirm the child is choking and cannot breathe, cough, or speak.\\nPerform the Heimlich maneuver by standing behind the child, placing your arms around their waist, and delivering quick, upward abdominal thrusts.\\nContinue until the object is expelled or the child becomes unconscious.\",\n          \"Confirm the location and number of vehicles involved.\\nDetermine the number of injured persons and the severity of their injuries.\\nInstruct the caller to ensure the safety of the scene (e.g., move to a safe location if possible).\\nProvide first aid instructions for visible injuries (e.g., control bleeding, immobilize fractures).\\nAdvise not to move severely injured persons unless there is an immediate danger.\\nReassure the caller and keep them calm until emergency services arrive.\"\n        ],\n        \"semantic_type\": \"\",\n        \"description\": \"\"\n      }\n    },\n    {\n      \"column\": \"conversation\",\n      \"properties\": {\n        \"dtype\": \"string\",\n        \"num_unique_values\": 55,\n        \"samples\": [\n          \"Dispatcher: \\\"911, what is your emergency?\\\"\\nCaller: \\\"My friend fell and hit their head. There's a lot of blood!\\\"\\nDispatcher: \\\"Is the scene safe? Are there any hazards around?\\\"\\nCaller: \\\"Yes, it's safe.\\\"\\nDispatcher: \\\"Have your friend sit or lie down to prevent further injury. Do you have a clean cloth or bandage?\\\"\\nCaller: \\\"Yes, I have a clean towel.\\\"\\nDispatcher: \\\"Great. Apply direct pressure to the wound with the towel. Press firmly.\\\"\\nCaller: \\\"Okay, I'm pressing down.\\\"\\nDispatcher: \\\"Is the bleeding slowing down?\\\"\\nCaller: \\\"Not much, it's still bleeding.\\\"\\nDispatcher: \\\"Apply a second cloth or bandage on top of the first one and keep pressing.\\\"\\nCaller: \\\"Alright, I\\u2019m doing that.\\\"\\nDispatcher: \\\"How is your friend feeling? Are they showing any signs of a concussion like confusion, dizziness, or nausea?\\\"\\nCaller: \\\"They seem a bit confused and dizzy.\\\"\\nDispatcher: \\\"Keep them calm and still. Help is on the way. Stay on the line with me until they arrive.\\\"\\n\",\n          \"Dispatcher: \\\"911, what is your emergency?\\\"\\nCaller: \\\"My child is choking! They can't breathe!\\\"\\nDispatcher: \\\"Stay calm. Is your child able to speak or cough at all?\\\"\\nCaller: \\\"No, they can't make any sound.\\\"\\nDispatcher: \\\"We need to perform the Heimlich maneuver. Are you familiar with it?\\\"\\nCaller: \\\"Yes, but I'm not sure how to do it on a child.\\\"\\nDispatcher: \\\"I'll guide you. Stand behind your child and wrap your arms around their waist. Make a fist with one hand and place it just above their belly button. Grab your fist with your other hand and perform quick, upward thrusts.\\\"\\nCaller: \\\"Okay, I'm doing it now.\\\"\\nDispatcher: \\\"Keep going until the object comes out or they start breathing. Is there anyone else there who can help?\\\"\\nCaller: \\\"No, I'm alone.\\\"\\nDispatcher: \\\"Stay on the line with me. If your child becomes unconscious, we'll need to start CPR immediately.\\\"\",\n          \"Dispatcher: \\\"911, what is your emergency?\\\"\\nCaller: \\\"My friend got stabbed in the stomach and is bleeding a lot!\\\"\\nDispatcher: \\\"Is the scene safe? Is the person who caused the injury still there?\\\"\\nCaller: \\\"It's safe now. The attacker left.\\\"\\nDispatcher: \\\"Have your friend lie down with their knees bent to reduce tension on the wound. Do you have a clean cloth or bandage?\\\"\\nCaller: \\\"Yes, I have a cloth.\\\"\\nDispatcher: \\\"Good. Apply direct pressure to the wound with the cloth. Press firmly.\\\"\\nCaller: \\\"Okay, I'm pressing down.\\\"\\nDispatcher: \\\"Is the bleeding slowing down?\\\"\\nCaller: \\\"Not really, it's still bleeding heavily.\\\"\\nDispatcher: \\\"Apply a second cloth or bandage on top of the first one and keep pressing.\\\"\\nCaller: \\\"Alright, I\\u2019m doing that now.\\\"\\nDispatcher: \\\"If the bleeding continues, we may need to use a tourniquet. Do you have something that can be used as a tourniquet?\\\"\\nCaller: \\\"I have a belt.\\\"\\nDispatcher: \\\"Good. Place it around the abdomen above the injury, about two inches above the cut. Tighten it until the bleeding slows significantly.\\\"\\nCaller: \\\"Okay, I'm tightening it now. The bleeding is slowing down.\\\"\\nDispatcher: \\\"Great job. Keep your friend calm and still. Help is on the way. Stay on the line with me until they arrive.\\\"\"\n        ],\n        \"semantic_type\": \"\",\n        \"description\": \"\"\n      }\n    },\n    {\n      \"column\": \"reference\",\n      \"properties\": {\n        \"dtype\": \"category\",\n        \"num_unique_values\": 1,\n        \"samples\": [\n          \"Emergency Medical Dispatch Guide Cards \"\n        ],\n        \"semantic_type\": \"\",\n        \"description\": \"\"\n      }\n    },\n    {\n      \"column\": \"link\",\n      \"properties\": {\n        \"dtype\": \"category\",\n        \"num_unique_values\": 1,\n        \"samples\": [\n          \"https://ia903008.us.archive.org/view_archive.php?archive=/9/items/files-all/cards911.zip&file=EMD_Card_Version_0.26.2.pdf \"\n        ],\n        \"semantic_type\": \"\",\n        \"description\": \"\"\n      }\n    }\n  ]\n}"
            }
          },
          "metadata": {},
          "execution_count": 7
        }
      ]
    },
    {
      "cell_type": "code",
      "source": [
        "documents = []\n",
        "for _, row in df.iterrows():\n",
        "    chuncks = character_text_splitter.split_text(f\"\"\"Scenario: {row['scenario']}\n",
        "                                                 Protocol: {row['protocol steps']}\n",
        "                                                 conversation: {row['conversation']}\"\"\")\n",
        "    for chunck in chuncks:\n",
        "      documents.append(Document(\n",
        "          page_content = chunck,\n",
        "          metadata = {\"Emergency Type\": f\"{row['Type of emergency']}\", \"Title\": f\"{row['Title']}\", \"Type\": \"Scenario\", \"Reference\": f\"{row['reference']}\", \"Link\": f\"{row['link']}\"}))"
      ],
      "metadata": {
        "id": "Qvst7MbGrPPf",
        "outputId": "8c654f23-415d-4541-91ca-67d78fa77cc4",
        "colab": {
          "base_uri": "https://localhost:8080/"
        }
      },
      "execution_count": null,
      "outputs": [
        {
          "output_type": "stream",
          "name": "stderr",
          "text": [
            "WARNING:langchain_text_splitters.base:Created a chunk of size 612, which is longer than the specified 500\n",
            "WARNING:langchain_text_splitters.base:Created a chunk of size 591, which is longer than the specified 500\n",
            "WARNING:langchain_text_splitters.base:Created a chunk of size 583, which is longer than the specified 500\n",
            "WARNING:langchain_text_splitters.base:Created a chunk of size 588, which is longer than the specified 500\n"
          ]
        }
      ]
    },
    {
      "cell_type": "code",
      "source": [
        "embeddings = CohereEmbeddings(cohere_api_key= cohere_secret_key, user_agent='dispatch-ai')\n",
        "vector_store = Pinecone_Langchain.from_documents(documents, embeddings, index_name=index)"
      ],
      "metadata": {
        "id": "1OXjr47wrGfg"
      },
      "execution_count": null,
      "outputs": []
    },
    {
      "cell_type": "code",
      "source": [
        "# Add protocols for the Q&A feature\n",
        "documents = []\n",
        "for _, row in df.iterrows():\n",
        "    chuncks = character_text_splitter.split_text(f\"\"\"This is a protocol for this scenario: {row['scenario']}\n",
        "                                                 The steps: {row['protocol steps']}\"\"\")\n",
        "    for chunck in chuncks:\n",
        "      documents.append(Document(\n",
        "          page_content = chunck,\n",
        "          metadata = {\"Reference\": f\"{row['reference']}\", \"Link\": f\"{row['link']}\"}))"
      ],
      "metadata": {
        "id": "tvVu4l3Fc3yz"
      },
      "execution_count": 8,
      "outputs": []
    },
    {
      "cell_type": "code",
      "source": [
        "embeddings = CohereEmbeddings(cohere_api_key= cohere_secret_key, user_agent='dispatch-ai')\n",
        "vector_store = Pinecone_Langchain.from_documents(documents, embeddings, index_name=index)"
      ],
      "metadata": {
        "colab": {
          "base_uri": "https://localhost:8080/"
        },
        "id": "ceqEnnfzdY0J",
        "outputId": "498c11c6-6194-4293-80fe-5c3c44615f51"
      },
      "execution_count": 9,
      "outputs": [
        {
          "output_type": "stream",
          "name": "stderr",
          "text": [
            "/usr/local/lib/python3.10/dist-packages/langchain_core/_api/deprecation.py:139: LangChainDeprecationWarning: The class `CohereEmbeddings` was deprecated in LangChain 0.0.30 and will be removed in 0.3.0. An updated version of the class exists in the langchain-cohere package and should be used instead. To use it run `pip install -U langchain-cohere` and import as `from langchain_cohere import CohereEmbeddings`.\n",
            "  warn_deprecated(\n"
          ]
        }
      ]
    }
  ]
}